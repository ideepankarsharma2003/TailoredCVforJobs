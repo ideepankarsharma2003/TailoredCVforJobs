{
 "cells": [
  {
   "cell_type": "code",
   "execution_count": 1,
   "metadata": {},
   "outputs": [
    {
     "data": {
      "text/plain": [
       "'c:\\\\Deepankar\\\\MCA\\\\Semester 02\\\\OMC 207 Mini Project\\\\TailoredCVforJobs'"
      ]
     },
     "execution_count": 1,
     "metadata": {},
     "output_type": "execute_result"
    }
   ],
   "source": [
    "import os; os.chdir('..')\n",
    "%pwd"
   ]
  },
  {
   "cell_type": "code",
   "execution_count": 2,
   "metadata": {},
   "outputs": [
    {
     "data": {
      "text/plain": [
       "True"
      ]
     },
     "execution_count": 2,
     "metadata": {},
     "output_type": "execute_result"
    }
   ],
   "source": [
    "from dotenv import load_dotenv\n",
    "load_dotenv()"
   ]
  },
  {
   "cell_type": "code",
   "execution_count": 3,
   "metadata": {},
   "outputs": [],
   "source": [
    "OPENAI_API_KEY= os.environ.get(\"OPENAI_API_KEY\")"
   ]
  },
  {
   "cell_type": "code",
   "execution_count": 4,
   "metadata": {},
   "outputs": [],
   "source": [
    "import openai\n",
    "\n",
    "openai.api_key = OPENAI_API_KEY\n"
   ]
  },
  {
   "cell_type": "code",
   "execution_count": 14,
   "metadata": {},
   "outputs": [
    {
     "name": "stdout",
     "output_type": "stream",
     "text": [
      "Tailored Resume:\n",
      " {'original_resume': '\\nDear Hiring Manager,\\n\\nI am writing to express my interest in the Software Engineer position at XYZ Company. With a strong background in software development and a passion for technology, I am excited about the opportunity to contribute to your team.\\n\\nBest regards,\\nJohn Doe\\n', 'job_description': '\\nWe are looking for a Software Engineer to join our team. The ideal candidate will have experience with Python, JavaScript, and cloud computing technologies. Responsibilities include developing and maintaining web applications, collaborating with cross-functional teams, and ensuring the scalability and performance of our systems.\\n', 'text': '# John Doe\\nSoftware Engineer\\n\\n## Objective:\\nExperienced Software Engineer with a strong background in Python and JavaScript, and a demonstrated passion for cloud computing technologies. Seeking to leverage my web application development and maintenance expertise to contribute to the success of XYZ Company.\\n\\n## Skills:\\n- Proficient in Python and JavaScript\\n- Experienced in cloud computing technologies\\n- Strong understanding of web application development and maintenance\\n- Excellent collaboration and team-working skills\\n- Experienced in ensuring the scalability and performance of systems\\n\\n## Professional Experience:\\n\\n**Software Engineer** | ABC Company | January 2018 - Present\\n- Developed and maintained multiple web applications using Python and JavaScript, resulting in increased efficiency and user satisfaction.\\n- Collaborated with cross-functional teams to design, develop, and implement software solutions.\\n- Ensured the scalability and performance of systems, resulting in improved system reliability and efficiency.\\n- Gained significant experience with cloud computing technologies, implementing them in various projects to enhance system performance and flexibility.\\n\\n**Junior Software Engineer** | DEF Company | June 2015 - December 2017\\n- Assisted in the development of web applications using Python and JavaScript.\\n- Worked closely with senior engineers to maintain and improve existing systems.\\n- Gained experience in collaborating with cross-functional teams and ensuring system scalability and performance.\\n\\n## Education:\\n\\n**Bachelor of Science in Computer Science**, GHI University | September 2011 - May 2015\\n\\n## References:\\n\\nAvailable upon request'}\n"
     ]
    }
   ],
   "source": [
    "import openai\n",
    "from langchain.chains import LLMChain\n",
    "from langchain.prompts import PromptTemplate\n",
    "# from langchain.llms import OpenAI\n",
    "from langchain_openai.chat_models import ChatOpenAI\n",
    "\n",
    "# Set up OpenAI API key\n",
    "openai.api_key = 'your_openai_api_key'\n",
    "\n",
    "prompt_template = PromptTemplate(\n",
    "    input_variables=[\"original_resume\", \"job_description\"],\n",
    "    template=\"\"\"\n",
    "\n",
    "Based on the following original resume and job description, generate a tailored resume that highlights relevant skills, experiences, and qualifications aligning with the job requirements. Ensure that the tailored resume:\n",
    "\n",
    "1. Emphasizes key skills and experiences mentioned in the job description.\n",
    "2. Uses industry-specific keywords from the job description.\n",
    "3. Rearranges or modifies sections to prioritize the most relevant information.\n",
    "4. Adjusts the objective or summary statement to reflect the desired role.\n",
    "5. Includes measurable achievements and specific examples where applicable.\n",
    "6. Omits or de-emphasizes less relevant information.\n",
    "7. Format the final output in crafty and beautiful markdown.\n",
    "\n",
    "**Original Resume**:\n",
    "{original_resume}\n",
    "\n",
    "**Job Description**:\n",
    "{job_description}\n",
    "\n",
    "**Tailored Resume**:\n",
    "\n",
    "\"\"\"\n",
    ")\n",
    "# Create an LLM instance\n",
    "llm = ChatOpenAI(model=\"gpt-4\")\n",
    "\n",
    "# Create the LLMChain instance\n",
    "cv_chain = LLMChain(prompt=prompt_template, llm=llm)\n",
    "\n",
    "# Define the inputs\n",
    "generic_cv = \"\"\"\n",
    "Dear Hiring Manager,\n",
    "\n",
    "I am writing to express my interest in the Software Engineer position at XYZ Company. With a strong background in software development and a passion for technology, I am excited about the opportunity to contribute to your team.\n",
    "\n",
    "Best regards,\n",
    "John Doe\n",
    "\"\"\"\n",
    "\n",
    "job_description = \"\"\"\n",
    "We are looking for a Software Engineer to join our team. The ideal candidate will have experience with Python, JavaScript, and cloud computing technologies. Responsibilities include developing and maintaining web applications, collaborating with cross-functional teams, and ensuring the scalability and performance of our systems.\n",
    "\"\"\"\n",
    "\n",
    "# Generate the tailored resume\n",
    "inputs = {\"original_resume\": generic_cv, \"job_description\": job_description}\n",
    "tailored_resume = cv_chain.invoke(inputs)\n",
    "\n",
    "# Print the tailored resume\n",
    "print(\"Tailored Resume:\\n\", tailored_resume)\n"
   ]
  },
  {
   "cell_type": "code",
   "execution_count": 6,
   "metadata": {},
   "outputs": [
    {
     "name": "stdout",
     "output_type": "stream",
     "text": [
      "Tailored Resume:\n",
      " \n",
      "Dear Hiring Manager,\n",
      "\n",
      "I am writing to express my interest in the Software Engineer position at XYZ Company. With a strong background in software development and a passion for technology, I am excited about the opportunity to contribute to your team.\n",
      "\n",
      "Best regards,\n",
      "John Doe\n",
      "\n"
     ]
    }
   ],
   "source": [
    "print(\"Tailored Resume:\\n\", tailored_resume['cover_letter'])\n"
   ]
  },
  {
   "cell_type": "code",
   "execution_count": 15,
   "metadata": {},
   "outputs": [
    {
     "data": {
      "text/markdown": [
       "# John Doe\n",
       "Software Engineer\n",
       "\n",
       "## Objective:\n",
       "Experienced Software Engineer with a strong background in Python and JavaScript, and a demonstrated passion for cloud computing technologies. Seeking to leverage my web application development and maintenance expertise to contribute to the success of XYZ Company.\n",
       "\n",
       "## Skills:\n",
       "- Proficient in Python and JavaScript\n",
       "- Experienced in cloud computing technologies\n",
       "- Strong understanding of web application development and maintenance\n",
       "- Excellent collaboration and team-working skills\n",
       "- Experienced in ensuring the scalability and performance of systems\n",
       "\n",
       "## Professional Experience:\n",
       "\n",
       "**Software Engineer** | ABC Company | January 2018 - Present\n",
       "- Developed and maintained multiple web applications using Python and JavaScript, resulting in increased efficiency and user satisfaction.\n",
       "- Collaborated with cross-functional teams to design, develop, and implement software solutions.\n",
       "- Ensured the scalability and performance of systems, resulting in improved system reliability and efficiency.\n",
       "- Gained significant experience with cloud computing technologies, implementing them in various projects to enhance system performance and flexibility.\n",
       "\n",
       "**Junior Software Engineer** | DEF Company | June 2015 - December 2017\n",
       "- Assisted in the development of web applications using Python and JavaScript.\n",
       "- Worked closely with senior engineers to maintain and improve existing systems.\n",
       "- Gained experience in collaborating with cross-functional teams and ensuring system scalability and performance.\n",
       "\n",
       "## Education:\n",
       "\n",
       "**Bachelor of Science in Computer Science**, GHI University | September 2011 - May 2015\n",
       "\n",
       "## References:\n",
       "\n",
       "Available upon request"
      ],
      "text/plain": [
       "<IPython.core.display.Markdown object>"
      ]
     },
     "execution_count": 15,
     "metadata": {},
     "output_type": "execute_result"
    }
   ],
   "source": [
    "from IPython.display import Markdown, display\n",
    "Markdown(tailored_resume['text'])"
   ]
  },
  {
   "cell_type": "code",
   "execution_count": null,
   "metadata": {},
   "outputs": [],
   "source": []
  }
 ],
 "metadata": {
  "kernelspec": {
   "display_name": "venv",
   "language": "python",
   "name": "python3"
  },
  "language_info": {
   "codemirror_mode": {
    "name": "ipython",
    "version": 3
   },
   "file_extension": ".py",
   "mimetype": "text/x-python",
   "name": "python",
   "nbconvert_exporter": "python",
   "pygments_lexer": "ipython3",
   "version": "3.12.2"
  }
 },
 "nbformat": 4,
 "nbformat_minor": 2
}
